{
 "cells": [
  {
   "cell_type": "code",
   "execution_count": 10,
   "metadata": {},
   "outputs": [
    {
     "name": "stdout",
     "output_type": "stream",
     "text": [
      "[[0 1 2]\n",
      " [0 1 2]\n",
      " [0 1 2]]\n",
      "1\n",
      "(3, 3)\n",
      "uint8\n"
     ]
    }
   ],
   "source": [
    "import numpy as np\n",
    "x= np.arange(3)#start by default 0->array from 0 to 2\n",
    "y= np.arange(3)\n",
    "z= np.arange(3)\n",
    "twoD_array=np.array([x,y,z])\n",
    "print(twoD_array)#[[0 1 2]\n",
    "                 #   [0 1 2]\n",
    "                  #  [0 1 2]]\n",
    "        \n",
    "print(twoD_array[0,1])#1\n",
    "\n",
    "print(twoD_array.shape)#(3, 3)\n",
    "\n",
    "twoD_array2=np.array([x,y,z],dtype= np.uint8)\n",
    "print(twoD_array2.dtype)#data type =>bigger size for scientific computing"
   ]
  },
  {
   "cell_type": "code",
   "execution_count": 6,
   "metadata": {},
   "outputs": [
    {
     "name": "stdout",
     "output_type": "stream",
     "text": [
      "[ 1.          1.18367347  1.36734694  1.55102041  1.73469388  1.91836735\n",
      "  2.10204082  2.28571429  2.46938776  2.65306122  2.83673469  3.02040816\n",
      "  3.20408163  3.3877551   3.57142857  3.75510204  3.93877551  4.12244898\n",
      "  4.30612245  4.48979592  4.67346939  4.85714286  5.04081633  5.2244898\n",
      "  5.40816327  5.59183673  5.7755102   5.95918367  6.14285714  6.32653061\n",
      "  6.51020408  6.69387755  6.87755102  7.06122449  7.24489796  7.42857143\n",
      "  7.6122449   7.79591837  7.97959184  8.16326531  8.34693878  8.53061224\n",
      "  8.71428571  8.89795918  9.08163265  9.26530612  9.44897959  9.63265306\n",
      "  9.81632653 10.        ]\n",
      "[ 1.    1.29  1.58  1.87  2.16  2.45  2.74  3.03  3.32  3.61  3.9   4.19\n",
      "  4.48  4.77  5.06  5.35  5.64  5.93  6.22  6.51  6.8   7.09  7.38  7.67\n",
      "  7.96  8.25  8.54  8.83  9.12  9.41  9.7   9.99 10.28 10.57 10.86 11.15\n",
      " 11.44 11.73 12.02 12.31 12.6  12.89 13.18 13.47 13.76 14.05 14.34 14.63\n",
      " 14.92 15.21 15.5  15.79 16.08 16.37 16.66 16.95 17.24 17.53 17.82 18.11\n",
      " 18.4  18.69 18.98 19.27 19.56 19.85 20.14 20.43 20.72 21.01 21.3  21.59\n",
      " 21.88 22.17 22.46 22.75 23.04 23.33 23.62 23.91 24.2  24.49 24.78 25.07\n",
      " 25.36 25.65 25.94 26.23 26.52 26.81 27.1  27.39 27.68 27.97 28.26 28.55\n",
      " 28.84 29.13 29.42 29.71]\n"
     ]
    }
   ],
   "source": [
    "w=  np.linspace(1,10,50)#=>produces 50 numbers between 1 and 10 evenly ranged\n",
    "print(w)\n",
    "\n",
    "l=  np.linspace(1,30,100,False)#=>produces 100 numbers between 1 and 30(not included) evenly ranged\n",
    "print(l)"
   ]
  },
  {
   "cell_type": "code",
   "execution_count": 5,
   "metadata": {},
   "outputs": [
    {
     "name": "stdout",
     "output_type": "stream",
     "text": [
      "[ 1  4  7 10 13 16 19 22 25 28]\n"
     ]
    }
   ],
   "source": [
    "w=  np.arange(1,30,3)#=>3 is the step  all number with a step  difference of 3 is printed\n",
    "print(w)"
   ]
  },
  {
   "cell_type": "code",
   "execution_count": 11,
   "metadata": {},
   "outputs": [
    {
     "name": "stdout",
     "output_type": "stream",
     "text": [
      "[[0 1 2]\n",
      " [0 1 2]\n",
      " [0 1 2]]\n"
     ]
    }
   ],
   "source": [
    "#slicing multidimensional arrays =>rrefer to video\n",
    "print(twoD_array)"
   ]
  },
  {
   "cell_type": "code",
   "execution_count": 14,
   "metadata": {},
   "outputs": [
    {
     "name": "stdout",
     "output_type": "stream",
     "text": [
      "[0 1 2 0 1 2 0 1 2]\n",
      "[0 1 2 0 1 2 0 1 2]\n",
      "[[0 0 0]\n",
      " [1 1 1]\n",
      " [2 2 2]]\n"
     ]
    }
   ],
   "source": [
    "#modifying shapes of arrays\n",
    "ravelled_array=twoD_array.ravel()#return view of original array i.e changes made to original array(cbr)\n",
    "print(ravelled_array)\n",
    "flatenned_array=twoD_array.flatten()#returns copy i.e modifies a copy of original array (cbv)\n",
    "print(flatenned_array)\n",
    "\n",
    "print(twoD_array.T)#transpose"
   ]
  },
  {
   "cell_type": "code",
   "execution_count": 18,
   "metadata": {},
   "outputs": [
    {
     "name": "stdout",
     "output_type": "stream",
     "text": [
      "[[0 0 0 0]\n",
      " [0 0 0 0]\n",
      " [0 0 0 0]]\n"
     ]
    }
   ],
   "source": [
    "h=np.zeros([3,4],dtype=int)\n",
    "print(h)"
   ]
  },
  {
   "cell_type": "code",
   "execution_count": 19,
   "metadata": {},
   "outputs": [
    {
     "name": "stdout",
     "output_type": "stream",
     "text": [
      "[[1 1 1 1]\n",
      " [1 1 1 1]\n",
      " [1 1 1 1]]\n"
     ]
    }
   ],
   "source": [
    "p=np.ones([3,4],dtype=int)\n",
    "print(p)"
   ]
  },
  {
   "cell_type": "code",
   "execution_count": 23,
   "metadata": {},
   "outputs": [
    {
     "name": "stdout",
     "output_type": "stream",
     "text": [
      "[[1. 0. 0.]\n",
      " [0. 1. 0.]\n",
      " [0. 0. 1.]]\n"
     ]
    }
   ],
   "source": [
    "print(np.eye(3)) #identity matrix of size 3 by 3"
   ]
  },
  {
   "cell_type": "code",
   "execution_count": 24,
   "metadata": {},
   "outputs": [
    {
     "data": {
      "text/plain": [
       "array([[0.57595929, 0.54316795, 0.70233667, 0.18710931],\n",
       "       [0.41163499, 0.79746318, 0.44013979, 0.22447458],\n",
       "       [0.56710644, 0.25329293, 0.992034  , 0.90980544],\n",
       "       [0.69402539, 0.5738841 , 0.388039  , 0.4065267 ]])"
      ]
     },
     "execution_count": 24,
     "metadata": {},
     "output_type": "execute_result"
    }
   ],
   "source": [
    "np.random.rand(4,4) #random numbers"
   ]
  },
  {
   "cell_type": "code",
   "execution_count": 28,
   "metadata": {},
   "outputs": [
    {
     "name": "stdout",
     "output_type": "stream",
     "text": [
      "[[ 29 -16]\n",
      " [ 38   6]]\n",
      "[[ 29 -16]\n",
      " [ 38   6]]\n",
      "[[ 29 -16]\n",
      " [ 38   6]]\n"
     ]
    }
   ],
   "source": [
    "#matrix multiplication\n",
    "#conddition => number of columns in A = number of rows in B\n",
    "matrix1=np.matrix([0,3,5,5,5,2]).reshape(2,3)\n",
    "matrix2=np.matrix([3,4,3,-2,4,-2]).reshape(3,2)\n",
    "print(matrix1*matrix2)\n",
    "\n",
    "product=np.matmul(matrix1,matrix2)\n",
    "print(product)\n",
    "\n",
    "print(matrix1@matrix2)"
   ]
  },
  {
   "cell_type": "code",
   "execution_count": null,
   "metadata": {},
   "outputs": [],
   "source": []
  }
 ],
 "metadata": {
  "kernelspec": {
   "display_name": "Python 3",
   "language": "python",
   "name": "python3"
  },
  "language_info": {
   "codemirror_mode": {
    "name": "ipython",
    "version": 3
   },
   "file_extension": ".py",
   "mimetype": "text/x-python",
   "name": "python",
   "nbconvert_exporter": "python",
   "pygments_lexer": "ipython3",
   "version": "3.7.4"
  }
 },
 "nbformat": 4,
 "nbformat_minor": 2
}
