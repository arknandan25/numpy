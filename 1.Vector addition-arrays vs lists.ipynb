{
 "cells": [
  {
   "cell_type": "code",
   "execution_count": 2,
   "metadata": {},
   "outputs": [
    {
     "name": "stdout",
     "output_type": "stream",
     "text": [
      "[2, 12, 36]\n"
     ]
    }
   ],
   "source": [
    "list_2=list(range(1,4))#1,2,3 =>is a list\n",
    "list_3=list(range(1,4))\n",
    "list_sum=[]\n",
    "for index in range(3):\n",
    "    list_2[index]  = list_2[index] ** 2\n",
    "    list_3[index] = list_3[index] ** 3\n",
    "    list_sum.append(list_2[index] + list_3[index])\n",
    "print(list_sum)"
   ]
  },
  {
   "cell_type": "code",
   "execution_count": 10,
   "metadata": {},
   "outputs": [
    {
     "name": "stdout",
     "output_type": "stream",
     "text": [
      "[1 4 9]\n",
      "[ 1  8 27]\n",
      "[ 2 12 36]\n"
     ]
    }
   ],
   "source": [
    "#Simpler version of the above python code using numpy\n",
    "\n",
    "import numpy as np#all submodules and functions from numpy under alis np\n",
    "a1=np.arange(1,4) **2#start=1,end=4=>array(not list) from 1 to 3\n",
    "print(a1)#[1 4 9]\n",
    "a2=np.arange(1,4)**3\n",
    "print(a2)#[ 1  8 27]\n",
    "print(a1+a2)#[ 2 12 36]=>vectorized addition of individual element of array\n"
   ]
  },
  {
   "cell_type": "code",
   "execution_count": 13,
   "metadata": {},
   "outputs": [
    {
     "data": {
      "text/plain": [
       "array([ 1,  8, 27])"
      ]
     },
     "execution_count": 13,
     "metadata": {},
     "output_type": "execute_result"
    }
   ],
   "source": [
    "np.power(np.array([1,2,3]) , 4) #array([ 1, 16, 81])\n",
    "np.array([1,2,3]) **4 #array([ 1,  8, 27])=>same as above\n"
   ]
  },
  {
   "cell_type": "code",
   "execution_count": 15,
   "metadata": {},
   "outputs": [
    {
     "name": "stdout",
     "output_type": "stream",
     "text": [
      "[ 2.71828183  7.3890561  20.08553692]\n",
      "[0.         0.69314718 1.09861229]\n",
      "[0.84147098 0.90929743 0.14112001]\n",
      "[ 0.54030231 -0.41614684 -0.9899925 ]\n"
     ]
    }
   ],
   "source": [
    "test=np.array([1,2,3])\n",
    "print(np.exp(test))\n",
    "print(np.log(test))\n",
    "print(np.sin(test))\n",
    "print(np.cos(test))"
   ]
  },
  {
   "cell_type": "code",
   "execution_count": 19,
   "metadata": {},
   "outputs": [
    {
     "name": "stdout",
     "output_type": "stream",
     "text": [
      "[1 2 3 4 5 6 7 8 9]\n",
      "[3 5 7]\n",
      "[3 4 5 6 7 8 9]\n"
     ]
    }
   ],
   "source": [
    "#slicing 1D arrays\n",
    "x=np.arange(1,10)#indexing is same from 0\n",
    "print(x)\n",
    "print(x[2:7:2])\n",
    "print(x[2:])# element 3 is index 2"
   ]
  },
  {
   "cell_type": "code",
   "execution_count": 26,
   "metadata": {},
   "outputs": [
    {
     "name": "stdout",
     "output_type": "stream",
     "text": [
      "[[[ 0  1  2]\n",
      "  [ 3  4  5]\n",
      "  [ 6  7  8]]\n",
      "\n",
      " [[ 9 10 11]\n",
      "  [12 13 14]\n",
      "  [15 16 17]]]\n"
     ]
    }
   ],
   "source": [
    "#reshape 1D to a 2D array\n",
    "t=np.arange(18).reshape(2,3,3)=>2D arrays both 3 by 3 size with 9 elements each\n",
    "print(t)"
   ]
  },
  {
   "cell_type": "code",
   "execution_count": null,
   "metadata": {},
   "outputs": [],
   "source": []
  }
 ],
 "metadata": {
  "kernelspec": {
   "display_name": "Python 3",
   "language": "python",
   "name": "python3"
  },
  "language_info": {
   "codemirror_mode": {
    "name": "ipython",
    "version": 3
   },
   "file_extension": ".py",
   "mimetype": "text/x-python",
   "name": "python",
   "nbconvert_exporter": "python",
   "pygments_lexer": "ipython3",
   "version": "3.7.4"
  }
 },
 "nbformat": 4,
 "nbformat_minor": 2
}
